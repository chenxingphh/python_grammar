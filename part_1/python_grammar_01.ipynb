{
 "cells": [
  {
   "cell_type": "code",
   "execution_count": 11,
   "metadata": {},
   "outputs": [],
   "source": [
    "# -*- coding=utf-8 -*-\n",
    "'''\n",
    "Created on 2021/3/4\n",
    "\n",
    "@Haihui Pan\n",
    "'''"
   ]
  },
  {
   "cell_type": "markdown",
   "metadata": {},
   "source": [
    "# 格式化输出"
   ]
  },
  {
   "cell_type": "code",
   "execution_count": 6,
   "metadata": {},
   "outputs": [
    {
     "name": "stdout",
     "output_type": "stream",
     "text": [
      "hello word Python\n"
     ]
    }
   ],
   "source": [
    "#1-print中的‘,’会自动添加一个空格；Python的print()会自带换行效果\n",
    "print('hello word','Python')"
   ]
  },
  {
   "cell_type": "code",
   "execution_count": 2,
   "metadata": {},
   "outputs": [
    {
     "name": "stdout",
     "output_type": "stream",
     "text": [
      "Machine learning Deep learning\n"
     ]
    }
   ],
   "source": [
    "#2-在末尾添加end='',起到不换行的效果\n",
    "print('Machine learning',end='')\n",
    "print(' Deep learning')"
   ]
  },
  {
   "cell_type": "code",
   "execution_count": 3,
   "metadata": {},
   "outputs": [
    {
     "name": "stdout",
     "output_type": "stream",
     "text": [
      "Google and Apple are technical companies\n",
      "PI的值为3.1416(保留4位小数)\n"
     ]
    }
   ],
   "source": [
    "#3-使用str.format()格式化输出结果\n",
    "print(\"{} and {} are technical companies\".format('Google','Apple'))\n",
    "print('PI的值为{0:.4f}(保留4位小数)'.format(3.14159))"
   ]
  },
  {
   "cell_type": "code",
   "execution_count": null,
   "metadata": {},
   "outputs": [],
   "source": [
    "#4-Python允许用''' '''的格式表示多行内容【注意，在''' '''中的换行会被算入】\n",
    "print('''\n",
    "Tensorflow\n",
    "Keras\n",
    "Pytorch\n",
    "''')"
   ]
  },
  {
   "cell_type": "markdown",
   "metadata": {},
   "source": [
    "# 猜数字游戏"
   ]
  },
  {
   "cell_type": "code",
   "execution_count": 2,
   "metadata": {},
   "outputs": [
    {
     "name": "stdout",
     "output_type": "stream",
     "text": [
      "请输入一个0-100以内的随机数:50\n",
      "猜的数字太太了，请重新输入:25\n",
      "恭喜猜对了！\n"
     ]
    }
   ],
   "source": [
    "#猜数字\n",
    "import random\n",
    "\n",
    "def guess_num(begin,end):\n",
    "    #生成一个0-100的整数\n",
    "    num=random.randint(begin,end)\n",
    "    n=int(input('请输入一个{}-{}以内的随机数:'.format(begin,end)))\n",
    "    while True:\n",
    "        if n==num:\n",
    "            print('恭喜猜对了！')\n",
    "            break\n",
    "        \n",
    "        if n<num:\n",
    "            n=int(input('猜的数字太小了，请重新输入:'))\n",
    "        \n",
    "        if n>num:\n",
    "            n=int(input('猜的数字太太了，请重新输入:'))\n",
    "        \n",
    "guess_num(0,100)"
   ]
  },
  {
   "cell_type": "markdown",
   "metadata": {},
   "source": [
    "# 标准数据类型"
   ]
  },
  {
   "cell_type": "markdown",
   "metadata": {},
   "source": [
    "Python内置6种标准类型：Numbers（数字） String（字符串） List（列表） Tuple（元组） Set(集合)  Dictionary（字典）\n",
    "\n",
    "Python3 的六个标准数据类型中：<br>\n",
    "不可变数据（3 个）：Number（数字）、String（字符串）、Tuple（元组）<br>\n",
    "可变数据（3 个）：List（列表）、Dictionary（字典）、Set（集合）"
   ]
  },
  {
   "cell_type": "markdown",
   "metadata": {},
   "source": [
    "## Number（数字）"
   ]
  },
  {
   "cell_type": "code",
   "execution_count": 5,
   "metadata": {},
   "outputs": [
    {
     "name": "stdout",
     "output_type": "stream",
     "text": [
      "6 4.23 True (1+4j)\n",
      "<class 'int'> <class 'float'> <class 'bool'> <class 'complex'>\n"
     ]
    }
   ],
   "source": [
    "#Python3 支持 int、float、bool、complex（复数）\n",
    "int_var=6\n",
    "float_var=4.23\n",
    "bool_var=True\n",
    "comp_var=1+4j\n",
    "print(int_var,float_var,bool_var,comp_var)\n",
    "\n",
    "#使用type()来判断对象类型\n",
    "print(type(int_var),type(float_var),type(bool_var),type(comp_var))"
   ]
  },
  {
   "cell_type": "code",
   "execution_count": 6,
   "metadata": {},
   "outputs": [
    {
     "name": "stdout",
     "output_type": "stream",
     "text": [
      "10%3=1\n"
     ]
    }
   ],
   "source": [
    "#取余\n",
    "print('10%3={}'.format(10%3))"
   ]
  },
  {
   "cell_type": "code",
   "execution_count": 7,
   "metadata": {},
   "outputs": [
    {
     "name": "stdout",
     "output_type": "stream",
     "text": [
      "7//4=1\n"
     ]
    }
   ],
   "source": [
    "#整除\n",
    "print('7//4={}'.format(7//4))"
   ]
  },
  {
   "cell_type": "code",
   "execution_count": 8,
   "metadata": {},
   "outputs": [
    {
     "name": "stdout",
     "output_type": "stream",
     "text": [
      "2**3=8\n"
     ]
    }
   ],
   "source": [
    "#乘方\n",
    "print('2**3={}'.format(2**3))"
   ]
  },
  {
   "cell_type": "code",
   "execution_count": 3,
   "metadata": {},
   "outputs": [
    {
     "name": "stdout",
     "output_type": "stream",
     "text": [
      "5\n"
     ]
    }
   ],
   "source": [
    "#赋值运算符\n",
    "a=2\n",
    "a+=3\n",
    "print(a)"
   ]
  },
  {
   "cell_type": "markdown",
   "metadata": {},
   "source": [
    "## String(字符串)"
   ]
  },
  {
   "cell_type": "markdown",
   "metadata": {},
   "source": [
    "1.Python中的字符串用单引号 ' 或双引号 \" 括起来，同时使用反斜杠 \\ 转义特殊字符。<br>\n",
    "2.加号 + 是字符串的连接符， 星号 * 表示复制当前字符串，紧跟的数字为复制的次数 <br>\n",
    "3.字符串前面添加一个r表示不进行转移，输出原始字符串<br>\n",
    "4.Python 没有单独的字符类型，一个字符就是长度为1的字符串<br>\n",
    "5.Python的字符串不能被改变，向索引位置赋值，如str[0]='w'会出错"
   ]
  },
  {
   "cell_type": "code",
   "execution_count": 9,
   "metadata": {},
   "outputs": [
    {
     "name": "stdout",
     "output_type": "stream",
     "text": [
      "abc\n",
      "bcd\n"
     ]
    }
   ],
   "source": [
    "#特殊字符转义\n",
    "print('abc\\nbcd')"
   ]
  },
  {
   "cell_type": "code",
   "execution_count": 12,
   "metadata": {},
   "outputs": [
    {
     "name": "stdout",
     "output_type": "stream",
     "text": [
      "csuedu\n",
      "CSUCSUCSU\n"
     ]
    }
   ],
   "source": [
    "#字符串拼接&字符串复制\n",
    "print('csu'+'.edu')\n",
    "print('CSU'*3)"
   ]
  },
  {
   "cell_type": "code",
   "execution_count": 14,
   "metadata": {},
   "outputs": [
    {
     "name": "stdout",
     "output_type": "stream",
     "text": [
      "123\\n123\n",
      "123\n",
      "123\n"
     ]
    }
   ],
   "source": [
    "#不转移特殊字符(会直接输出\\n)\n",
    "print(r'123\\n123')\n",
    "print('123\\n123')"
   ]
  },
  {
   "cell_type": "code",
   "execution_count": 17,
   "metadata": {},
   "outputs": [
    {
     "name": "stdout",
     "output_type": "stream",
     "text": [
      "fedcba\n",
      "abcde\n"
     ]
    }
   ],
   "source": [
    "#字符串索引\n",
    "'''\n",
    "str[start:end:step] 从start 提取到end-1，每step 个字符提取一个\n",
    "'''\n",
    "s='abcdef'\n",
    "#逆序（从头取到尾，反方向取）\n",
    "print(s[::-1])\n",
    "\n",
    "#取到倒数第二个([a:b]只能索引到a~b-1)\n",
    "print(s[:-1])"
   ]
  },
  {
   "cell_type": "markdown",
   "metadata": {},
   "source": [
    "## List（列表）"
   ]
  },
  {
   "cell_type": "markdown",
   "metadata": {},
   "source": [
    "1-List中元素的类型可以不相同<br>\n",
    "2-加号 + 是List连接运算符，星号 * 是重复操作<br>\n",
    "3-List可以被索引和截取，列表被截取后返回一个包含元素的新列表<br>\n",
    "4-List是可变对象，因此List有CRUD的操作<br>\n",
    "5-List常用内置函数<br>\n",
    "list.sort()       #排序<br>\n",
    "list.extend(L) #扩充列表，相当于L的元素添加到list<br>\n",
    "list.clear()      #清空列表元素<br>\n",
    "list.reverse()  #逆序"
   ]
  },
  {
   "cell_type": "code",
   "execution_count": 18,
   "metadata": {},
   "outputs": [
    {
     "name": "stdout",
     "output_type": "stream",
     "text": [
      "3.14\n",
      "[3.14, 'a', True, 123, 'abc']\n",
      "['abc', 123, True, 'a', 3.14, 'A', 'B']\n",
      "['A', 'B', 'A', 'B']\n"
     ]
    }
   ],
   "source": [
    "# List的索引与字符串的一致\n",
    "list_1=['abc',123,True,'a',3.14]\n",
    "list_2=['A','B']\n",
    "\n",
    "#查询最后一个元素\n",
    "print(list_1[-1])\n",
    "\n",
    "#列表元素逆序\n",
    "print(list_1[::-1])\n",
    "\n",
    "#List合并\n",
    "list_3=list_1+list_2\n",
    "print(list_3)\n",
    "\n",
    "#List复制\n",
    "list_2=list_2*2\n",
    "print(list_2)"
   ]
  },
  {
   "cell_type": "code",
   "execution_count": 21,
   "metadata": {},
   "outputs": [
    {
     "name": "stdout",
     "output_type": "stream",
     "text": [
      "['a', 'b', 'c']\n",
      "['a', 'd', 'b', 'c']\n",
      "['A', 'a', 'd', 'b', 'c']\n"
     ]
    }
   ],
   "source": [
    "#List添加元素\n",
    "list_1=['a','b']\n",
    "\n",
    "#在尾部追加元素\n",
    "list_1.append('c')\n",
    "print(list_1)\n",
    "\n",
    "#在指定位置添加元素\n",
    "list_1.insert(1,'d')\n",
    "print(list_1)\n",
    "list_1.insert(0,'A')\n",
    "print(list_1)"
   ]
  },
  {
   "cell_type": "code",
   "execution_count": 22,
   "metadata": {},
   "outputs": [
    {
     "name": "stdout",
     "output_type": "stream",
     "text": [
      "d\n",
      "['b', 'c']\n"
     ]
    }
   ],
   "source": [
    "#List删除元素\n",
    "list_1=['a','b','c','d']\n",
    "\n",
    "#删除最后一个元素,会返回删除元素\n",
    "print(list_1.pop())\n",
    "\n",
    "#删除指定位置元素\n",
    "list_1.pop(0)\n",
    "print(list_1)"
   ]
  },
  {
   "cell_type": "markdown",
   "metadata": {},
   "source": [
    "### List排序"
   ]
  },
  {
   "cell_type": "code",
   "execution_count": 42,
   "metadata": {},
   "outputs": [
    {
     "name": "stdout",
     "output_type": "stream",
     "text": [
      "[4, 3, 2, 1, 0]\n",
      "[('a', 100), ('c', 88), ('b', 77)]\n"
     ]
    }
   ],
   "source": [
    "'''\n",
    "list.sort(cmp=None, key=None, reverse=False)\n",
    "\n",
    "cmp -- 可选参数, 如果指定了该参数会使用该参数的方法进行排序。\n",
    "key -- 主要是用来进行比较的元素，只有一个参数，具体的函数的参数就是取自于可迭代对象中，指定可迭代对象中的一个元素来进行排序。\n",
    "reverse -- 排序规则，reverse = True 降序， reverse = False 升序（默认）\n",
    "'''\n",
    "\n",
    "list_1=[2,3,4,1,0]\n",
    "list_1.sort(reverse=True) #降序(升序为自然排序) \n",
    "print(list_1)\n",
    "\n",
    "#按照元素中指定元素来排序\n",
    "list_2=[('a',100),('b',77),('c',88)]\n",
    "def sort_relu(e):\n",
    "    return e[1]\n",
    "list_2.sort(key=sort_relu,reverse=True)\n",
    "print(list_2)"
   ]
  },
  {
   "cell_type": "code",
   "execution_count": 37,
   "metadata": {},
   "outputs": [
    {
     "name": "stdout",
     "output_type": "stream",
     "text": [
      "[1, 2, 3, 4, 5, 6, 1]\n",
      "2\n"
     ]
    }
   ],
   "source": [
    "#合并2个List\n",
    "list_1=[1,2,3]\n",
    "list_2=[4,5,6,1]\n",
    "list_1.extend(list_2)\n",
    "print(list_1)\n",
    "\n",
    "#元素计数\n",
    "print(list_1.count(1))"
   ]
  },
  {
   "cell_type": "code",
   "execution_count": 24,
   "metadata": {},
   "outputs": [
    {
     "name": "stdout",
     "output_type": "stream",
     "text": [
      "The,world,is,beautiful\n"
     ]
    }
   ],
   "source": [
    "'''\n",
    "语法：  'sep'.join(seq)\n",
    "\n",
    "参数说明\n",
    "sep：分隔符。可以为空\n",
    "seq：要连接的元素序列、字符串、元组、字典\n",
    "上面的语法即：以sep作为分隔符，将seq所有的元素合并成一个新的字符串\n",
    "'''\n",
    "#将List中的元素用空格进行拼接\n",
    "words=['The','world','is','beautiful']\n",
    "print(','.join(words))"
   ]
  },
  {
   "cell_type": "markdown",
   "metadata": {},
   "source": [
    "## Tuple（元组）"
   ]
  },
  {
   "cell_type": "markdown",
   "metadata": {},
   "source": [
    "元组（tuple）与列表类似，不同之处在于元组的元素不能修改。元组写在小括号 () 里，元素之间用逗号隔开。\n",
    "\n",
    "1、元组的元素不能修改。(因此没有list的pop\\append这类的方法)<br>\n",
    "2、元组也可以被索引和切片，方法一样。<br>\n",
    "3、创建包含单个元素的元组时，需要在元素后添加','<br>\n",
    "4、元组也可以使用+操作符进行拼接"
   ]
  },
  {
   "cell_type": "code",
   "execution_count": 25,
   "metadata": {},
   "outputs": [
    {
     "name": "stdout",
     "output_type": "stream",
     "text": [
      "('A', True, 123)\n",
      "('a', 123, True, 'A')\n"
     ]
    }
   ],
   "source": [
    "#创建Tuple\n",
    "tuple_1=('a',) # 单个元素需要在末尾添加'',\n",
    "tuple_2=(123,True,'A')\n",
    "\n",
    "#Tuple的索引与字符串相同\n",
    "print(tuple_2[::-1])\n",
    "\n",
    "#合并两个Tuple\n",
    "tuple_3=tuple_1+tuple_2\n",
    "print(tuple_3)"
   ]
  },
  {
   "cell_type": "markdown",
   "metadata": {},
   "source": [
    "## Set(集合)"
   ]
  },
  {
   "cell_type": "markdown",
   "metadata": {},
   "source": [
    "1、set是一组key的集合，但不存储value;其中key不能重复；<br>\n",
    "2、set是无序，因此不能进行索引,但是可以进行遍历<br>\n",
    "注意：创建一个空集合必须用 set() 而不是 { }，因为 { } 是用来创建一个空字典"
   ]
  },
  {
   "cell_type": "code",
   "execution_count": 29,
   "metadata": {},
   "outputs": [
    {
     "name": "stdout",
     "output_type": "stream",
     "text": [
      "{'b', 'c', 'a'}\n",
      "{'Tom', 'Jane', 'Mike'}\n",
      "Tom\n",
      "Jane\n",
      "Mike\n",
      "No\n"
     ]
    }
   ],
   "source": [
    "#一个字符串会被拆分为单个字符的形式 \n",
    "set_1=set('abc') \n",
    "print(set_1)\n",
    "\n",
    "stud_set={'Tom','Mike','Jane'}\n",
    "print(stud_set)\n",
    "\n",
    "#遍历元素\n",
    "for i in stud_set:\n",
    "    print(i)\n",
    "\n",
    "#判断是否有某元素\n",
    "if 'Tom1' in stud_set:\n",
    "    print('Yes')\n",
    "else:\n",
    "    print('No')"
   ]
  },
  {
   "cell_type": "code",
   "execution_count": 30,
   "metadata": {},
   "outputs": [
    {
     "name": "stdout",
     "output_type": "stream",
     "text": [
      "{1}\n",
      "{1, 2, 3, 4, 5, 6}\n",
      "{2, 3, 4, 5}\n",
      "{1, 6}\n"
     ]
    }
   ],
   "source": [
    "#集合操作\n",
    "a={1,2,3,4,5}\n",
    "b={2,3,4,5,6}\n",
    "\n",
    "#差集\n",
    "print(a-b) #a去除掉集合b中包含的元素\n",
    "\n",
    "#并集\n",
    "print(a|b)\n",
    "\n",
    "#交集\n",
    "print(a&b)\n",
    "\n",
    "#交集的补集\n",
    "print(a^b)"
   ]
  },
  {
   "cell_type": "markdown",
   "metadata": {},
   "source": [
    "## Dictionary（字典）"
   ]
  },
  {
   "cell_type": "markdown",
   "metadata": {},
   "source": [
    "dictionary是一种映射类型，在其他语言中也称为map\n",
    "\n",
    "1、字典当中的元素是通过键来存取的<br>\n",
    "2、字典是无序的<br>\n",
    "3、在同一个字典中，key是唯一的<br>\n",
    "4、创建空字典使用{}"
   ]
  },
  {
   "cell_type": "code",
   "execution_count": 59,
   "metadata": {},
   "outputs": [
    {
     "name": "stdout",
     "output_type": "stream",
     "text": [
      "{'b': 2, 'c': 3, 'a': 1}\n",
      "2\n",
      "None\n",
      "3\n",
      "True\n"
     ]
    }
   ],
   "source": [
    "dict_1={'a':1,'b':2}\n",
    "\n",
    "#添加元素\n",
    "dict_1['c']=3\n",
    "print(dict_1)\n",
    "\n",
    "#根据key获取value，所有查询的key不存在会报错\n",
    "print(dict_1['b'])\n",
    "print(dict_1.get('d',None)) #使用dict.get查询不存在的key时，可以指定返回对象\n",
    "\n",
    "#根据key删除元素\n",
    "print(dict_1.pop('c',None))\n",
    "\n",
    "#判断key是否在dict\n",
    "print('a' in dict_1)"
   ]
  },
  {
   "cell_type": "code",
   "execution_count": 56,
   "metadata": {},
   "outputs": [
    {
     "name": "stdout",
     "output_type": "stream",
     "text": [
      "b 2\n",
      "a 1\n",
      "dict_keys(['b', 'a']) <class 'dict_keys'>\n",
      "dict_values([2, 1]) <class 'dict_values'>\n",
      "{'b': 2, 'd': 4, 'c': 3, 'a': 1}\n"
     ]
    }
   ],
   "source": [
    "dict_1={'a':1,'b':2}\n",
    "#遍历dict\n",
    "for k,v in dict_1.items():\n",
    "    print(k,v,)\n",
    "    \n",
    "#获取所有的keys,\n",
    "print(dict_1.keys(),type(dict_1.keys()))\n",
    "\n",
    "#获取所有的value\n",
    "print(dict_1.values(),type(dict_1.values()))\n",
    "\n",
    "#合并2个List得到dict\n",
    "a=[1,2,3,4]\n",
    "b=['a','b','c','d']\n",
    "print(dict(zip(b,a)))"
   ]
  },
  {
   "cell_type": "markdown",
   "metadata": {},
   "source": [
    "## 强制类型转换"
   ]
  },
  {
   "cell_type": "code",
   "execution_count": 43,
   "metadata": {},
   "outputs": [
    {
     "name": "stdout",
     "output_type": "stream",
     "text": [
      "{1, 2, 3, 4, 5} <class 'set'>\n"
     ]
    }
   ],
   "source": [
    "#将List转换为Set\n",
    "a=[1,2,3,3,4,5]\n",
    "b=set(a)\n",
    "print(b,type(b))"
   ]
  },
  {
   "cell_type": "code",
   "execution_count": 44,
   "metadata": {},
   "outputs": [
    {
     "name": "stdout",
     "output_type": "stream",
     "text": [
      "214.5 <class 'float'>\n"
     ]
    }
   ],
   "source": [
    "#将Str转换为float\n",
    "a='2.145e2'\n",
    "b=float(a)\n",
    "print(b,type(b))"
   ]
  }
 ],
 "metadata": {
  "celltoolbar": "Raw Cell Format",
  "kernelspec": {
   "display_name": "Python 3",
   "language": "python",
   "name": "python3"
  },
  "language_info": {
   "codemirror_mode": {
    "name": "ipython",
    "version": 3
   },
   "file_extension": ".py",
   "mimetype": "text/x-python",
   "name": "python",
   "nbconvert_exporter": "python",
   "pygments_lexer": "ipython3",
   "version": "3.5.6"
  },
  "latex_envs": {
   "LaTeX_envs_menu_present": true,
   "autoclose": false,
   "autocomplete": true,
   "bibliofile": "biblio.bib",
   "cite_by": "apalike",
   "current_citInitial": 1,
   "eqLabelWithNumbers": true,
   "eqNumInitial": 1,
   "hotkeys": {
    "equation": "Ctrl-E",
    "itemize": "Ctrl-I"
   },
   "labels_anchors": false,
   "latex_user_defs": false,
   "report_style_numbering": false,
   "user_envs_cfg": false
  }
 },
 "nbformat": 4,
 "nbformat_minor": 2
}
