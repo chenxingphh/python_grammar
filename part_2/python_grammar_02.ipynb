{
 "cells": [
  {
   "cell_type": "code",
   "execution_count": null,
   "metadata": {},
   "outputs": [],
   "source": [
    "# -*- coding=utf-8 -*-\n",
    "\"\"\"\n",
    "@Created on 2021/3/11\n",
    "\n",
    "@Haihui Pan\n",
    "\"\"\""
   ]
  },
  {
   "cell_type": "markdown",
   "metadata": {},
   "source": [
    "# 条件判断&循环语句"
   ]
  },
  {
   "cell_type": "markdown",
   "metadata": {},
   "source": [
    "## if 条件语句"
   ]
  },
  {
   "cell_type": "markdown",
   "metadata": {},
   "source": [
    "Python 中用 elif 代替了 else if，所以if语句的关键字为：if – elif – else。\n",
    "\n",
    "注意：<br>\n",
    "1 每个条件后面要使用冒号 :，表示接下来是满足条件后要执行的语句块。<br>\n",
    "2 使用缩进来划分语句块，相同缩进数的语句在一起组成一个语句块。<br>\n",
    "3 Python中没有switch – case语句"
   ]
  },
  {
   "cell_type": "code",
   "execution_count": 1,
   "metadata": {},
   "outputs": [
    {
     "name": "stdout",
     "output_type": "stream",
     "text": [
      "不及格\n"
     ]
    }
   ],
   "source": [
    "score=35\n",
    "\n",
    "if score >=90:\n",
    "    print('优秀')\n",
    "elif score>=70:\n",
    "    print('良好')\n",
    "elif score>=60:\n",
    "    print('及格')\n",
    "else:\n",
    "    print('不及格')"
   ]
  },
  {
   "cell_type": "markdown",
   "metadata": {},
   "source": [
    "## while 循环"
   ]
  },
  {
   "cell_type": "code",
   "execution_count": 2,
   "metadata": {},
   "outputs": [
    {
     "name": "stdout",
     "output_type": "stream",
     "text": [
      "1 1 2 3 5 8 "
     ]
    }
   ],
   "source": [
    "#构建斐波那契数列\n",
    "a,b=0,1\n",
    "\n",
    "while b<10:\n",
    "    print(b,end=' ')\n",
    "    a,b=b,a+b"
   ]
  },
  {
   "cell_type": "code",
   "execution_count": 4,
   "metadata": {},
   "outputs": [
    {
     "name": "stdout",
     "output_type": "stream",
     "text": [
      "4950\n"
     ]
    }
   ],
   "source": [
    "#计算1+2+...+99\n",
    "sum_value=0\n",
    "i=1\n",
    "while i<=99:\n",
    "    sum_value+=i\n",
    "    i+=1\n",
    "print(sum_value)    "
   ]
  },
  {
   "cell_type": "markdown",
   "metadata": {},
   "source": [
    "## for循环"
   ]
  },
  {
   "cell_type": "code",
   "execution_count": 5,
   "metadata": {},
   "outputs": [
    {
     "name": "stdout",
     "output_type": "stream",
     "text": [
      "0 2 4 6 8 "
     ]
    }
   ],
   "source": [
    "'''\n",
    "range(begin,end,step)它会生成[begin,end-1]的数列，step为间隔数\n",
    "'''\n",
    "for i in range(0,10,2):\n",
    "    print(i,end=' ')"
   ]
  },
  {
   "cell_type": "markdown",
   "metadata": {},
   "source": [
    "## continue&break"
   ]
  },
  {
   "cell_type": "code",
   "execution_count": 6,
   "metadata": {},
   "outputs": [
    {
     "name": "stdout",
     "output_type": "stream",
     "text": [
      "goodye"
     ]
    }
   ],
   "source": [
    "for a in 'goodbye':\n",
    "    if a=='b':\n",
    "        continue\n",
    "    else:\n",
    "        print(a,end='')"
   ]
  },
  {
   "cell_type": "code",
   "execution_count": 7,
   "metadata": {},
   "outputs": [
    {
     "name": "stdout",
     "output_type": "stream",
     "text": [
      "good"
     ]
    }
   ],
   "source": [
    "for a in 'goodbye':\n",
    "    if a=='b':\n",
    "        break\n",
    "    else:\n",
    "        print(a,end='')"
   ]
  },
  {
   "cell_type": "markdown",
   "metadata": {},
   "source": [
    "# 迭代器与生成器"
   ]
  },
  {
   "cell_type": "markdown",
   "metadata": {},
   "source": [
    "## 迭代器(Iteration)"
   ]
  },
  {
   "cell_type": "markdown",
   "metadata": {},
   "source": [
    "迭代器对象从集合的第一个元素开始访问，直到所有的元素被访问完结束。迭代器只能往前不会后退。<br>\n",
    "迭代器有两个基本的方法：iter() 和 next() <br>\n",
    "字符串，列表或元组对象都可用于创建迭代器："
   ]
  },
  {
   "cell_type": "code",
   "execution_count": 8,
   "metadata": {},
   "outputs": [
    {
     "name": "stdout",
     "output_type": "stream",
     "text": [
      "1 2 3 4 "
     ]
    }
   ],
   "source": [
    "#for 循环遍历迭代器时不会发生异常\n",
    "list_1=[1,2,3,4]\n",
    "iter_1=iter(list_1)\n",
    "\n",
    "for i in iter_1:\n",
    "    print(i,end=' ')"
   ]
  },
  {
   "cell_type": "code",
   "execution_count": 9,
   "metadata": {},
   "outputs": [
    {
     "name": "stdout",
     "output_type": "stream",
     "text": [
      "1\n",
      "2\n",
      "3\n",
      "4\n"
     ]
    },
    {
     "ename": "StopIteration",
     "evalue": "",
     "output_type": "error",
     "traceback": [
      "\u001b[1;31m---------------------------------------------------------------------------\u001b[0m",
      "\u001b[1;31mStopIteration\u001b[0m                             Traceback (most recent call last)",
      "\u001b[1;32m<ipython-input-9-90342ae5d374>\u001b[0m in \u001b[0;36m<module>\u001b[1;34m()\u001b[0m\n\u001b[0;32m      6\u001b[0m \u001b[0mprint\u001b[0m\u001b[1;33m(\u001b[0m\u001b[0mnext\u001b[0m\u001b[1;33m(\u001b[0m\u001b[0miter_1\u001b[0m\u001b[1;33m)\u001b[0m\u001b[1;33m)\u001b[0m\u001b[1;33m\u001b[0m\u001b[0m\n\u001b[0;32m      7\u001b[0m \u001b[0mprint\u001b[0m\u001b[1;33m(\u001b[0m\u001b[0mnext\u001b[0m\u001b[1;33m(\u001b[0m\u001b[0miter_1\u001b[0m\u001b[1;33m)\u001b[0m\u001b[1;33m)\u001b[0m\u001b[1;33m\u001b[0m\u001b[0m\n\u001b[1;32m----> 8\u001b[1;33m \u001b[0mprint\u001b[0m\u001b[1;33m(\u001b[0m\u001b[0mnext\u001b[0m\u001b[1;33m(\u001b[0m\u001b[0miter_1\u001b[0m\u001b[1;33m)\u001b[0m\u001b[1;33m)\u001b[0m\u001b[1;33m\u001b[0m\u001b[0m\n\u001b[0m",
      "\u001b[1;31mStopIteration\u001b[0m: "
     ]
    }
   ],
   "source": [
    "#使用next()时，当元素被访问完之后会抛出异常;\n",
    "#StopIteration 异常用于标识迭代的完成，防止出现无限循环的情况\n",
    "list_1=[1,2,3,4]\n",
    "iter_1=iter(list_1)\n",
    "\n",
    "print(next(iter_1))\n",
    "print(next(iter_1))\n",
    "print(next(iter_1))\n",
    "print(next(iter_1))\n",
    "print(next(iter_1))"
   ]
  },
  {
   "cell_type": "code",
   "execution_count": 13,
   "metadata": {},
   "outputs": [
    {
     "name": "stdout",
     "output_type": "stream",
     "text": [
      "1\n",
      "2\n",
      "3\n",
      "4\n",
      "ok\n"
     ]
    }
   ],
   "source": [
    "list_1=[1,2,3,4]\n",
    "iter_1=iter(list_1)\n",
    "\n",
    "while True:\n",
    "        try:\n",
    "            print(next(iter_1))\n",
    "        except StopIteration:\n",
    "            break\n",
    "print('ok')"
   ]
  },
  {
   "cell_type": "markdown",
   "metadata": {},
   "source": [
    "## 生成器（generator）"
   ]
  },
  {
   "cell_type": "markdown",
   "metadata": {},
   "source": [
    "生成器仅仅保存了一套生成数值的算法,并且不会一次性生成所有数值，而是每次调用时产生一个数值。<br>\n",
    "1-生成器是一个返回迭代器的函数，只能用于迭代操作，更简单点理解生成器就是一个迭代器<br>\n",
    "2-调用生成器的过程中，每次遇到 yield 时函数会暂停并保存当前所有的运行信息，返回 yield 的值, 并在下一次执行 next() 方法时从当前位置继续运行。<br>\n",
    "3-调用一个生成器函数，返回的是一个迭代器对象\n"
   ]
  },
  {
   "cell_type": "code",
   "execution_count": 2,
   "metadata": {},
   "outputs": [
    {
     "name": "stdout",
     "output_type": "stream",
     "text": [
      "0 1 1 2 3 5 8 13 21 34 55 "
     ]
    }
   ],
   "source": [
    "#生成n个斐波那契数列\n",
    "def fibonacci(n):\n",
    "    a,b,count=0,1,0\n",
    "    while True:\n",
    "        if count<=n:\n",
    "            yield a\n",
    "            a,b=b,a+b\n",
    "            count+=1\n",
    "        else:\n",
    "            break\n",
    "            \n",
    "f=fibonacci(10)\n",
    "while True:\n",
    "    try:\n",
    "        print(next(f),end=\" \")\n",
    "    except StopIteration:\n",
    "        break"
   ]
  },
  {
   "cell_type": "code",
   "execution_count": 3,
   "metadata": {},
   "outputs": [
    {
     "name": "stdout",
     "output_type": "stream",
     "text": [
      "<class 'generator'>\n",
      "0 1 4 9 16 "
     ]
    }
   ],
   "source": [
    "#生成器的另一定义\n",
    "g=(i**2 for i in range(5))\n",
    "print(type(g))\n",
    "\n",
    "while True:\n",
    "    try:\n",
    "        print(next(g),end=\" \")\n",
    "    except StopIteration:\n",
    "        break"
   ]
  },
  {
   "cell_type": "markdown",
   "metadata": {},
   "source": [
    "# 函数"
   ]
  },
  {
   "cell_type": "markdown",
   "metadata": {},
   "source": [
    "1 函数代码块以 def 关键词开头，后接函数标识符名称和圆括号 ()<br>\n",
    "2 任何传入参数和自变量必须放在圆括号中间，圆括号之间可以用于定义参数。<br>\n",
    "3 函数的第一行语句可以选择性地使用文档字符串—用于存放函数说明。<br>\n",
    "4 函数内容以冒号起始，并且缩进。<br>\n",
    "5 return [表达式] 结束函数，选择性地返回一个值给调用方。不带表达式的return相当于返回 None。<br>"
   ]
  },
  {
   "cell_type": "code",
   "execution_count": 4,
   "metadata": {},
   "outputs": [
    {
     "name": "stdout",
     "output_type": "stream",
     "text": [
      "25\n"
     ]
    }
   ],
   "source": [
    "'''\n",
    "def 函数名（参数列表）:\n",
    "    函数功能说明\n",
    "    \n",
    "    函数体\n",
    "'''\n",
    "def my_pow(a,b):\n",
    "    '''\n",
    "    计算a的b次方的结果\n",
    "    '''\n",
    "    return a**b\n",
    "\n",
    "print(my_pow(5,2))"
   ]
  },
  {
   "cell_type": "markdown",
   "metadata": {},
   "source": [
    "## 参数传递"
   ]
  },
  {
   "cell_type": "markdown",
   "metadata": {},
   "source": [
    "1 在 python 中，strings, tuples, numbers 是不可变对象，而 list,dict,set是可变对象。<br>\n",
    "&nbsp; 1.1 不可变类型：变量赋值 a=5 后再赋值 a=10，这里实际是新生成一个 int 值对象 10，再让 a 指向它，而 5 被丢弃，不是改变a的值，相当于新生成了a。<br>\n",
    "&nbsp; 1.2 可变类型：变量赋值 la=[1,2,3,4] 后再赋值 la[2]=5 则是将 list la 的第三个元素值更改，本身la没有动，只是其内部的一部分值被修改了<br>\n",
    "2 python 函数的参数传递<br>\n",
    "&nbsp; 2.1 不可变类型：类似 c++ 的值传递，如 整数、字符串、元组。如fun(a)，传递的只是a的值，没有影响a对象本身。<br>\n",
    "      比如在 fun（a）内部修改 a 的值，只是修改另一个复制的对象，不会影响 a 本身。<br>\n",
    "&nbsp; 2.2 类似 c++ 的引用传递，如 列表，字典，set。如 fun(a)，则是将 a 真正的传过去，修改后fun外部的a也会受影响"
   ]
  },
  {
   "cell_type": "code",
   "execution_count": 5,
   "metadata": {},
   "outputs": [
    {
     "name": "stdout",
     "output_type": "stream",
     "text": [
      "11\n",
      "10\n"
     ]
    }
   ],
   "source": [
    "# python 不可变参数实例\n",
    "def unchange_param(a):\n",
    "    return a+1\n",
    "\n",
    "a=10\n",
    "print(unchange_param(a))\n",
    "print(a) #在函数体中修改a不改变原来a的值"
   ]
  },
  {
   "cell_type": "code",
   "execution_count": 6,
   "metadata": {},
   "outputs": [
    {
     "name": "stdout",
     "output_type": "stream",
     "text": [
      "[1, 2, 10]\n"
     ]
    }
   ],
   "source": [
    "# python 可变参数实例\n",
    "def change_param(a):\n",
    "    a.append(10)\n",
    "    return \n",
    "\n",
    "list_1=[1,2]\n",
    "change_param(list_1)\n",
    "print(list_1)"
   ]
  },
  {
   "cell_type": "markdown",
   "metadata": {},
   "source": [
    "## 参数类型"
   ]
  },
  {
   "cell_type": "markdown",
   "metadata": {},
   "source": [
    "调用函数时的4种参数类型<br>\n",
    "1-必须参数：必须传入的参数<br>\n",
    "2-关键字参数：使用关键字参数来确定传入的参数值，允许调用顺序与声明顺序不一致<br>\n",
    "3-默认参数：如果参数没有传入数值，使用默认值<br>\n",
    "4-不定长参数：函数能处理比当初声明时更多的参数"
   ]
  },
  {
   "cell_type": "code",
   "execution_count": 2,
   "metadata": {},
   "outputs": [
    {
     "name": "stdout",
     "output_type": "stream",
     "text": [
      "K\n",
      "10\n"
     ]
    }
   ],
   "source": [
    "def print_info(name,age=10):\n",
    "    print(name)\n",
    "    print(age)\n",
    "\n",
    "print_info(name='K')"
   ]
  },
  {
   "cell_type": "markdown",
   "metadata": {},
   "source": [
    "### 不定长参数"
   ]
  },
  {
   "cell_type": "markdown",
   "metadata": {},
   "source": [
    "1-加了星号 * 的参数会以元组(tuple)的形式导入<br>\n",
    "2-加了两个星号 ** 的参数会以字典的形式导入"
   ]
  },
  {
   "cell_type": "code",
   "execution_count": 5,
   "metadata": {},
   "outputs": [
    {
     "name": "stdout",
     "output_type": "stream",
     "text": [
      "arg1: 1\n",
      "tuple: (2, 'A')\n",
      "arg1: 1\n",
      "tuple: ((2, 3),)\n"
     ]
    }
   ],
   "source": [
    "def print_info(arg1,*var_tuple):\n",
    "    print('arg1:',arg1)\n",
    "    print('tuple:',var_tuple)\n",
    "\n",
    "#除了必须参数外，其余的参数都会被当做是tuple\n",
    "print_info(1,2,'A')\n",
    "print_info(1,(2,3))"
   ]
  },
  {
   "cell_type": "code",
   "execution_count": 7,
   "metadata": {},
   "outputs": [
    {
     "name": "stdout",
     "output_type": "stream",
     "text": [
      "arg1: 1\n",
      "dict: {'name': 'K', 'age': 10}\n"
     ]
    }
   ],
   "source": [
    "def print_info(arg1,**var_dict):\n",
    "    print('arg1:',arg1)\n",
    "    print('dict:',var_dict)\n",
    "\n",
    "print_info(1,name='K',age=10)"
   ]
  },
  {
   "cell_type": "markdown",
   "metadata": {},
   "source": [
    "## 匿名函数"
   ]
  },
  {
   "cell_type": "markdown",
   "metadata": {},
   "source": [
    "匿名即不使用 def 语句这样标准的形式定义一个函数<br>\n",
    "1-lambda只是一个表达式，函数体比 def 简单很多<br>\n",
    "2-lambda的主体是一个表达式，而不是一个代码块。仅仅能在lambda表达式中封装有限的逻辑进去。<br>\n",
    "3-lambda函数目的是调用小函数时不占用栈内存从而增加运行效率"
   ]
  },
  {
   "cell_type": "code",
   "execution_count": 8,
   "metadata": {},
   "outputs": [
    {
     "name": "stdout",
     "output_type": "stream",
     "text": [
      "8\n"
     ]
    }
   ],
   "source": [
    "'''\n",
    "语法:\n",
    "lambda [arg1,arg2,.....argn]:expression\n",
    "'''\n",
    "my_pow=lambda a,b:a**b\n",
    "print(my_pow(2,3))"
   ]
  }
 ],
 "metadata": {
  "kernelspec": {
   "display_name": "Python 3",
   "language": "python",
   "name": "python3"
  },
  "language_info": {
   "codemirror_mode": {
    "name": "ipython",
    "version": 3
   },
   "file_extension": ".py",
   "mimetype": "text/x-python",
   "name": "python",
   "nbconvert_exporter": "python",
   "pygments_lexer": "ipython3",
   "version": "3.5.6"
  },
  "latex_envs": {
   "LaTeX_envs_menu_present": true,
   "autoclose": false,
   "autocomplete": true,
   "bibliofile": "biblio.bib",
   "cite_by": "apalike",
   "current_citInitial": 1,
   "eqLabelWithNumbers": true,
   "eqNumInitial": 1,
   "hotkeys": {
    "equation": "Ctrl-E",
    "itemize": "Ctrl-I"
   },
   "labels_anchors": false,
   "latex_user_defs": false,
   "report_style_numbering": false,
   "user_envs_cfg": false
  }
 },
 "nbformat": 4,
 "nbformat_minor": 2
}
