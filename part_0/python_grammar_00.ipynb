{
 "cells": [
  {
   "cell_type": "code",
   "execution_count": null,
   "metadata": {},
   "outputs": [],
   "source": [
    "# -*- coding=utf-8 -*-\n",
    "'''\n",
    "Created on 2021/3/5\n",
    "\n",
    "@Haihui Pan\n",
    "\n",
    "@Ref：https://www.liaoxuefeng.com/wiki/1016959663602400\n",
    "'''"
   ]
  },
  {
   "cell_type": "markdown",
   "metadata": {},
   "source": [
    "# Python特点"
   ]
  },
  {
   "cell_type": "markdown",
   "metadata": {},
   "source": [
    "Python是著名的“龟叔”Guido van Rossum在1989年圣诞节期间，为了打发无聊的圣诞节而编写的一个编程语言。\n",
    "\n",
    "* 编程语言目的：编程语言是用来写程序，目的是让计算机来执行程序；CPU只识别机器指令，因此不同的编程语言都需要\"翻译\"成机器指令；但是不同的编程语言写同一个任务所需要的代码量不同。比如，C语言1000行代码，Java只要100行，而Python可能只要20行，所以Python是一种相当高级的语言；代码少的代价是运行速度慢\n",
    "\n",
    "其他流行的编程语言特点：<br>\n",
    "* C语言：面向过程语言，速度快，适合编写操作系统和嵌入式程序<br>\n",
    "* Java：面向对象语法简洁,适合网页App <br>\n",
    "* JavaScript：网页编程<br>\n",
    "\n",
    "**每种编程语言都有各自的特性，因此没有最好的语言只有最合适某种情况的语言**\n",
    "\n",
    "使用Python开发的APP和其他应用：<br>\n",
    "* Youtube - 视频社交网站<br>\n",
    "* 豆瓣网 - 电影等文化产品的资料数据库网站<br>\n",
    "* 知乎 - 一个问答网站<br>\n",
    "* 人工智能程序框架 - TensorFlow\n",
    "\n",
    "Python优点：<br> \n",
    "1-语法简单，拥有大量的三方库 <br>\n",
    "2-AI开发的“官方”语言\n",
    "\n",
    "Python缺点：<br>\n",
    "1-运行速度慢；因为Python是解释型语言，你的代码在执行时会一行一行地翻译成CPU能理解的机器码，这个翻译过程非常耗时；而C程序是运行前直接编译成CPU能执行的机器码，所有速度快<br>\n",
    "2-代码不能加密。如果要发布你的Python程序，实际上就是发布源代码，这一点跟C语言不同，C语言不用发布源代码，只需要把编译后的机器码（也就是你在Windows上常见的xxx.exe文件）发布出去"
   ]
  },
  {
   "cell_type": "markdown",
   "metadata": {},
   "source": [
    "# Python解释器"
   ]
  },
  {
   "cell_type": "markdown",
   "metadata": {},
   "source": [
    "Python有多种不同的解释器<br>\n",
    "1-CPython：Python官方网站下载并安装好Python 3.x后，就得到一个官方版本的解释器：CPython。这个解释器是用C语言开发的，所以叫CPython（使用最广泛的解释器）<br>\n",
    "2-IPython：基于CPython之上的一个交互式解释器，IPython只是在交互方式上有所增强，但是执行Python代码的功能和CPython是完全一样的<br>\n",
    "3-Jython：运行在Java平台上的Python解释器，可以直接把Python代码编译成Java字节码执行"
   ]
  },
  {
   "cell_type": "markdown",
   "metadata": {},
   "source": [
    "# 运行Python文件"
   ]
  },
  {
   "cell_type": "markdown",
   "metadata": {},
   "source": [
    "有同学问，能不能像.exe文件那样直接运行.py文件呢？在Windows上是不行的，但是在Mac和Linux上是可以的，方法是在.py文件的第一行加上一个特殊的注释：\n",
    "\n",
    "!/usr/bin/env python3 <br>\n",
    "print('hello, world')<br>\n",
    "\n",
    "然后，通过命令给hello.py以执行权限：<br>\n",
    "$ chmod a+x hello.py<br>\n",
    "bash hello.py\n",
    "\n",
    "注：现在基本都是通过安装Anaconda来创建所需的Python环境，同时Python的第三方包的安装和管理也十分方便。"
   ]
  },
  {
   "cell_type": "markdown",
   "metadata": {},
   "source": [
    "# 编程语言流行榜-TIOBE排行榜(2020年)"
   ]
  },
  {
   "cell_type": "code",
   "execution_count": 7,
   "metadata": {},
   "outputs": [
    {
     "data": {
      "text/html": [
       "<img src='TIOBE排行榜.png', width=800, height=500>"
      ],
      "text/plain": [
       "<IPython.core.display.HTML object>"
      ]
     },
     "metadata": {},
     "output_type": "display_data"
    }
   ],
   "source": [
    "%%html\n",
    "<img src='TIOBE排行榜.png', width=800, height=500>"
   ]
  },
  {
   "cell_type": "markdown",
   "metadata": {},
   "source": [
    "# 字符编码"
   ]
  },
  {
   "cell_type": "markdown",
   "metadata": {},
   "source": [
    "## ASCII编码"
   ]
  },
  {
   "cell_type": "markdown",
   "metadata": {},
   "source": [
    "因为计算机只能处理数字，如果要处理文本，就必须先把文本转换为数字才能处理。最早的计算机在设计时采用8个比特（bit）作为一个字节（byte），所以，一个字节能表示的最大的整数就是255（11111111=255）。如果要表示更大的整数，就必须用更多的字节，例如2个字节（1111111111111111=65535）\n",
    "\n",
    "由于计算机是美国人发明的，因此，最早只有127个字符被编码到计算机里，也就是大小写英文字母、数字和一些符号，这个编码表被称为ASCII编码。<br>\n",
    "\n",
    "缺点：<br>\n",
    "1-要处理中文显然一个字节是不够的，至少需要两个字节，而且还不能和ASCII编码冲突。全世界有上百种语言，所以每个国家都执行了自己国家的字符编码。中国制定了GB2312编码；日本把日文编到Shift_JIS；<br>\n",
    "2-制定字符编码时，各国有各国的标准，就会不可避免地出现冲突。结果就是，在多语言混合的文本中容易出现乱码。<br>"
   ]
  },
  {
   "cell_type": "markdown",
   "metadata": {},
   "source": [
    "## Unicode & UTF-8"
   ]
  },
  {
   "cell_type": "markdown",
   "metadata": {},
   "source": [
    "**Unicode**：把所有语言都统一到一套编码里，这样就不会再有乱码问题了。\n",
    "\n",
    "ASCII编码和Unicode编码的区别：ASCII编码是1个字节，而Unicode编码通常是2个字节。<br>\n",
    "\n",
    "例如：<br>\n",
    "* 字母A用ASCII编码是十进制的65，二进制的01000001；<br>\n",
    "* 字符0用ASCII编码是十进制的48，二进制的00110000，注意字符'0'和整数0是不同的；<br>\n",
    "* 汉字'中'已经超出了ASCII编码的范围，用Unicode编码是十进制的20013，二进制的01001110 00101101。<br>\n",
    "\n",
    "如果把ASCII编码的A用Unicode编码，只需要在前面补0就可以，因此，A的Unicode编码是00000000 01000001。\n",
    "\n",
    "Unicode缺点：<br>\n",
    "* Unicode编码可以解决乱码问题。但是用Unicode编码比ASCII编码需要多一倍的存储空间，在存储和传输上就十分不划算。\n",
    "\n",
    "**UTF-8**：本着节约的精神，又出现了把Unicode编码转化为“可变长编码”的UTF-8编码。<br> \n",
    "\n",
    "* 字符A在不同编码中的表示：\n",
    "\n",
    "|  字符  | ASCII   | Unicode  |UTF-8  |\n",
    "|  ----  | -------- |----  |----  |\n",
    "|  A    | 01000001 | 00000000 01000001 |01000001 |\n",
    "\n",
    "UTF-8优点：<br>\n",
    "* ASCII编码实际上可以被看成是UTF-8编码的一部分，所以，大量只支持ASCII编码的历史遗留软件可以在UTF-8编码下继续工作。\n",
    "\n",
    "注意：在计算机内存中统一使用Unicode编码，当需要保存到硬盘或者需要传输的时候，就转换为UTF-8编码"
   ]
  }
 ],
 "metadata": {
  "kernelspec": {
   "display_name": "Python 3",
   "language": "python",
   "name": "python3"
  },
  "language_info": {
   "codemirror_mode": {
    "name": "ipython",
    "version": 3
   },
   "file_extension": ".py",
   "mimetype": "text/x-python",
   "name": "python",
   "nbconvert_exporter": "python",
   "pygments_lexer": "ipython3",
   "version": "3.5.6"
  },
  "latex_envs": {
   "LaTeX_envs_menu_present": true,
   "autoclose": false,
   "autocomplete": true,
   "bibliofile": "biblio.bib",
   "cite_by": "apalike",
   "current_citInitial": 1,
   "eqLabelWithNumbers": true,
   "eqNumInitial": 1,
   "hotkeys": {
    "equation": "Ctrl-E",
    "itemize": "Ctrl-I"
   },
   "labels_anchors": false,
   "latex_user_defs": false,
   "report_style_numbering": false,
   "user_envs_cfg": false
  }
 },
 "nbformat": 4,
 "nbformat_minor": 2
}
