{
 "cells": [
  {
   "cell_type": "code",
   "execution_count": null,
   "metadata": {},
   "outputs": [],
   "source": [
    "# -*- coding=utf-8 -*-\n",
    "'''\n",
    "@Created on 2021/3/15\n",
    "\n",
    "@Haihui Pan\n",
    "'''"
   ]
  },
  {
   "cell_type": "markdown",
   "metadata": {},
   "source": [
    "# 文件操作"
   ]
  },
  {
   "cell_type": "markdown",
   "metadata": {},
   "source": [
    "## 文件读写"
   ]
  },
  {
   "cell_type": "markdown",
   "metadata": {},
   "source": [
    "文件常用模式<br>\n",
    "1-'r'只读，文件指针在开头，为默认模式<br>\n",
    "2-'r+'读写，文件指针在开头<br>\n",
    "3-'w'只写，会删除原有内容，重新写入<br>\n",
    "4-'w+'读写，会删除原有内容，重新写入<br>\n",
    "5-'a'追加，在原有基础上添加写入内容<br>\n",
    "6-'a+'读和追加"
   ]
  },
  {
   "cell_type": "code",
   "execution_count": 1,
   "metadata": {},
   "outputs": [
    {
     "name": "stdout",
     "output_type": "stream",
     "text": [
      "Python 是一个非常好的语言。\n",
      "\n",
      "是的，的确非常好!!\n",
      "\n",
      "['Python 是一个非常好的语言。\\n', '是的，的确非常好!!\\n'] <class 'list'>\n"
     ]
    }
   ],
   "source": [
    "# 创建一个文件，并写入信息\n",
    "f = open(\"tmp_test.txt\", \"w\",encoding='utf-8')\n",
    "f.write( \"Python 是一个非常好的语言。\\n是的，的确非常好!!\\n\" )\n",
    "f.close()\n",
    "\n",
    "#逐行读取(使用with可以达到自动关闭文件的效果)\n",
    "with open('tmp_test.txt','r',encoding='utf-8') as f:\n",
    "    #逐行读取\n",
    "    for line in f:\n",
    "        print(line)\n",
    "\n",
    "#读取全部\n",
    "with open('tmp_test.txt','r',encoding='utf-8') as f:\n",
    "    lines=f.readlines()\n",
    "    print(lines,type(lines))"
   ]
  },
  {
   "cell_type": "markdown",
   "metadata": {},
   "source": [
    "## 多行写入"
   ]
  },
  {
   "cell_type": "code",
   "execution_count": 19,
   "metadata": {},
   "outputs": [
    {
     "name": "stdout",
     "output_type": "stream",
     "text": [
      "a\n",
      " b\n",
      " c\n",
      " "
     ]
    }
   ],
   "source": [
    "#一次性写入多行\n",
    "a=['a\\n','b\\n','c\\n']\n",
    "with open('tmp_test.txt','w',encoding='utf-8') as f:\n",
    "    f.writelines(a)\n",
    "    \n",
    "with open('tmp_test.txt','r',encoding='utf-8') as f:\n",
    "    for line in f:\n",
    "        print(line,end=' ')"
   ]
  },
  {
   "cell_type": "markdown",
   "metadata": {},
   "source": [
    "# 文件/目录方法"
   ]
  },
  {
   "cell_type": "markdown",
   "metadata": {},
   "source": [
    "常用功能<br>\n",
    "1-获取当前目录 os.getcwd()<br>\n",
    "2-获取指定目录下的所有文件名  os.listdir(path)<br>\n",
    "3-创建文件夹  os.mkdir(path)<br>\n",
    "4-获取文件属性 https://www.runoob.com/python3/python3-os-path.html<br>\n",
    "   &nbsp; 4-1 路径拼接 os.path.join(a,b,...)<br>\n",
    "   &nbsp; 4-2 判断文件是否为文件夹  os.path.isdir(file_path)<br>\n",
    "   &nbsp; 4-3 判断文件是否为文件  os.path.isfile(file_path)"
   ]
  },
  {
   "cell_type": "code",
   "execution_count": 6,
   "metadata": {},
   "outputs": [
    {
     "name": "stdout",
     "output_type": "stream",
     "text": [
      "C:\\Users\\Administrator\\Desktop\\Python学习\\Python语法学习\n"
     ]
    }
   ],
   "source": [
    "import os\n",
    "\n",
    "#获取当前目录\n",
    "print(os.getcwd())"
   ]
  },
  {
   "cell_type": "code",
   "execution_count": 7,
   "metadata": {},
   "outputs": [
    {
     "name": "stdout",
     "output_type": "stream",
     "text": [
      ".ipynb_checkpoints\n",
      "grammar_review_00.ipynb\n",
      "grammar_review_01.ipynb\n",
      "grammar_review_02.ipynb\n",
      "grammar_review_03.ipynb\n",
      "grammar_review_04.ipynb\n",
      "python_grammar_01.ipynb\n",
      "Python_grammar_01.png\n",
      "python_grammar_02.ipynb\n",
      "Python_grammar_02.png\n",
      "python_grammar_03.ipynb\n",
      "python_grammar_04.ipynb\n",
      "TIOBE排行榜.png\n",
      "tmp_test.txt\n"
     ]
    }
   ],
   "source": [
    "#指定路径下文件和文件夹名称\n",
    "cur_path=os.getcwd()\n",
    "\n",
    "dirs=os.listdir(cur_path)\n",
    "for f in dirs:\n",
    "    print(f)"
   ]
  },
  {
   "cell_type": "code",
   "execution_count": 8,
   "metadata": {},
   "outputs": [],
   "source": [
    "cur_path=os.getcwd()\n",
    "\n",
    "#路径拼接\n",
    "dir_path=os.path.join(cur_path,'temp')\n",
    "\n",
    "#创建文件夹\n",
    "os.mkdir(path=dir_path)"
   ]
  },
  {
   "cell_type": "code",
   "execution_count": 11,
   "metadata": {},
   "outputs": [
    {
     "name": "stdout",
     "output_type": "stream",
     "text": [
      "True\n",
      "True\n"
     ]
    }
   ],
   "source": [
    "cur_path=os.getcwd()\n",
    "\n",
    "#判断文件是文件夹\n",
    "print(os.path.isdir(cur_path))\n",
    "\n",
    "#判断文件是文件\n",
    "file_path=os.path.join(cur_path,'tmp_test.txt')\n",
    "print(os.path.isfile(file_path))"
   ]
  },
  {
   "cell_type": "markdown",
   "metadata": {},
   "source": [
    "# 标准库"
   ]
  },
  {
   "cell_type": "markdown",
   "metadata": {},
   "source": [
    "常用内置标准库<br>\n",
    "1 os：操作系统和文件属性相关联的函数<br>\n",
    "2 glob：使用通配符来快速查询文件<br>\n",
    "3 sys<br>\n",
    " &nbsp; 3.1 获取调用命令行参数；例如，\"python demo.py one two three\" ，print(sys.argv)   '['demo.py', 'one', 'two', 'three']' <br>\n",
    " &nbsp; 3.2 错误输出重定向和程序终止<br>\n",
    "4 re：模块为高级字符串处理工具<br>\n",
    "5 math： 数学函数库<br>\n",
    "6 random： 随机数生成<br>\n",
    "7 urllib： 互联网访问<br>\n",
    "8 datetime： 日期时间"
   ]
  },
  {
   "cell_type": "markdown",
   "metadata": {},
   "source": [
    "## glob（文件查询匹配）"
   ]
  },
  {
   "cell_type": "code",
   "execution_count": 12,
   "metadata": {},
   "outputs": [
    {
     "name": "stdout",
     "output_type": "stream",
     "text": [
      "<class 'list'> ['C:\\\\Users\\\\Administrator\\\\Desktop\\\\Python学习\\\\Python语法学习\\\\grammar_review_00.ipynb', 'C:\\\\Users\\\\Administrator\\\\Desktop\\\\Python学习\\\\Python语法学习\\\\grammar_review_01.ipynb', 'C:\\\\Users\\\\Administrator\\\\Desktop\\\\Python学习\\\\Python语法学习\\\\grammar_review_02.ipynb', 'C:\\\\Users\\\\Administrator\\\\Desktop\\\\Python学习\\\\Python语法学习\\\\grammar_review_03.ipynb', 'C:\\\\Users\\\\Administrator\\\\Desktop\\\\Python学习\\\\Python语法学习\\\\grammar_review_04.ipynb', 'C:\\\\Users\\\\Administrator\\\\Desktop\\\\Python学习\\\\Python语法学习\\\\python_grammar_01.ipynb', 'C:\\\\Users\\\\Administrator\\\\Desktop\\\\Python学习\\\\Python语法学习\\\\python_grammar_02.ipynb', 'C:\\\\Users\\\\Administrator\\\\Desktop\\\\Python学习\\\\Python语法学习\\\\python_grammar_03.ipynb', 'C:\\\\Users\\\\Administrator\\\\Desktop\\\\Python学习\\\\Python语法学习\\\\python_grammar_04.ipynb']\n"
     ]
    }
   ],
   "source": [
    "import glob\n",
    "import os\n",
    "\n",
    "cur_path=os.getcwd()\n",
    "match_file=os.path.join(cur_path,'*.ipynb')\n",
    "\n",
    "#查询指定文件夹下的.ipynb文件\n",
    "res=glob.glob(match_file)\n",
    "print(type(res),res)"
   ]
  },
  {
   "cell_type": "markdown",
   "metadata": {},
   "source": [
    "## sys"
   ]
  },
  {
   "cell_type": "code",
   "execution_count": 18,
   "metadata": {},
   "outputs": [
    {
     "name": "stdout",
     "output_type": "stream",
     "text": [
      "hello\n",
      "hello\n"
     ]
    },
    {
     "name": "stderr",
     "output_type": "stream",
     "text": [
      "Warning, log file not found starting a new one\n"
     ]
    }
   ],
   "source": [
    "import sys\n",
    "#sys 还有 stdin，stdout 和 stderr 属性，即使在 stdout 被重定向时，后者也可以用于显示警告和错误信息\n",
    "sys.stderr.write('Warning, log file not found starting a new one\\n')\n",
    "print('hello')\n",
    "print('hello')"
   ]
  },
  {
   "cell_type": "markdown",
   "metadata": {},
   "source": [
    "## random(随机数生成)"
   ]
  },
  {
   "cell_type": "markdown",
   "metadata": {},
   "source": [
    "常用功能<br>\n",
    "1-采样 <br>\n",
    "&nbsp;1-从序列中进行无重复采样 random.sample(seq,K)  <br>\n",
    "&nbsp;2-[0.0, 1.0) 范围内的随机采用一个数  random.random()  <br>\n",
    "&nbsp;3-[x,y]内随机采用一个数  random.uniform(x,y) <br>         \n",
    "2-打乱序列 random.shuffle()<br>"
   ]
  },
  {
   "cell_type": "code",
   "execution_count": 28,
   "metadata": {},
   "outputs": [
    {
     "name": "stdout",
     "output_type": "stream",
     "text": [
      "0.305188844794855\n"
     ]
    }
   ],
   "source": [
    "import random\n",
    "\n",
    "#生成0~1随机数\n",
    "print(random.random())"
   ]
  },
  {
   "cell_type": "code",
   "execution_count": 25,
   "metadata": {},
   "outputs": [
    {
     "name": "stdout",
     "output_type": "stream",
     "text": [
      "['b', 'b', 'b', 'a']\n"
     ]
    }
   ],
   "source": [
    "#无重复随机采样\n",
    "sample_res=random.sample(['a','b','c','d','b','b','b','b'], 4)\n",
    "print(sample_res)"
   ]
  },
  {
   "cell_type": "code",
   "execution_count": 26,
   "metadata": {},
   "outputs": [
    {
     "name": "stdout",
     "output_type": "stream",
     "text": [
      "[7, 4, 1, 3, 5, 6, 2, 8, 9, 0]\n"
     ]
    }
   ],
   "source": [
    "#打乱序列\n",
    "seq=list(range(10))\n",
    "random.shuffle(seq)\n",
    "print(seq)"
   ]
  },
  {
   "cell_type": "markdown",
   "metadata": {},
   "source": [
    "## re(正则化)"
   ]
  },
  {
   "cell_type": "raw",
   "metadata": {},
   "source": [
    "正则表达式模式:(https://www.runoob.com/python3/python3-reg-expressions.html)\n",
    "^:字符串开头\n",
    "$：字符串结尾\n",
    ".：任意字符\n",
    "[...]：匹配给定的一组字符；例如：[0-9],[a-z],[A-Z] \n",
    "[^...]：匹配不在给定的一组字符\n",
    "*：匹配0个或多个的表达式\n",
    "+：匹配1个或多个的表达式\n",
    "{n}：n个前面的表达式；\"o{2}\"不能匹配\"Bob\"中的\"o\"，但是能匹配\"food\"中的两个o。"
   ]
  },
  {
   "cell_type": "markdown",
   "metadata": {},
   "source": [
    "### 字符串匹配"
   ]
  },
  {
   "cell_type": "code",
   "execution_count": null,
   "metadata": {},
   "outputs": [],
   "source": [
    "1-re.match表示从字符串的起始位置匹配一个模式，不符合则返回None\n",
    "2-re.search 扫描整个字符串并返回第一个成功的匹配"
   ]
  },
  {
   "cell_type": "code",
   "execution_count": 41,
   "metadata": {},
   "outputs": [
    {
     "name": "stdout",
     "output_type": "stream",
     "text": [
      "<_sre.SRE_Match object; span=(0, 4), match='abcd'>\n",
      "None\n"
     ]
    }
   ],
   "source": [
    "import re\n",
    "\n",
    "#一个字符串以'ab'为开头\n",
    "print(re.match('ab.*', 'abcd'))     \n",
    "print(re.match('ac.*', 'abacd'))     # 不在起始位置匹配"
   ]
  },
  {
   "cell_type": "code",
   "execution_count": 42,
   "metadata": {},
   "outputs": [
    {
     "name": "stdout",
     "output_type": "stream",
     "text": [
      "<_sre.SRE_Match object; span=(0, 4), match='abcd'>\n",
      "<_sre.SRE_Match object; span=(2, 5), match='acd'>\n"
     ]
    }
   ],
   "source": [
    "import re\n",
    "\n",
    "#一个字符串以'ab'为开头\n",
    "print(re.search('ab.*', 'abcd'))     \n",
    "print(re.search('ac.*', 'abacd'))     # 不在起始位置匹配"
   ]
  },
  {
   "cell_type": "markdown",
   "metadata": {},
   "source": [
    "### 正则化替换"
   ]
  },
  {
   "cell_type": "markdown",
   "metadata": {},
   "source": [
    "re.sub用于替换字符串中的匹配项\n",
    "\n",
    "语法<br>\n",
    "re.sub(pattern, repl, string, count=0, flags=0)\n",
    "\n",
    "参数：<br>\n",
    "pattern : 正则中的模式字符串<br>\n",
    "repl : 替换的字符串，也可为一个函数<br>\n",
    "string : 要被查找替换的原始字符串<br>\n",
    "count : 模式匹配后替换的最大次数，默认 0 表示替换所有的匹配"
   ]
  },
  {
   "cell_type": "code",
   "execution_count": 33,
   "metadata": {},
   "outputs": [
    {
     "name": "stdout",
     "output_type": "stream",
     "text": [
      "电话号码 :  2004-959-559 \n"
     ]
    }
   ],
   "source": [
    "import re \n",
    "\n",
    "phone =\"2004-959-559 》 这是一个电话号码\"\n",
    "# 删除注释\n",
    "num = re.sub(r'》.*$', \"\", phone) #'表示从》开始匹配，.表示匹配任意字符  *表示匹配0或多个  $表示字符串的末尾'\n",
    "print (\"电话号码 : \", num)"
   ]
  },
  {
   "cell_type": "code",
   "execution_count": 38,
   "metadata": {},
   "outputs": [
    {
     "name": "stdout",
     "output_type": "stream",
     "text": [
      "电话号码： 2004-959-559\n"
     ]
    }
   ],
   "source": [
    "import re\n",
    "\n",
    "phone =\"axcbb 电话号码2004-959-559 》 这是一个电话号码\"\n",
    "#只保留电话号码\n",
    "num=re.sub(r'[^0-9-]','',phone) #[^0-9-]表示0-9和-之外的字符全部替换为\",相当于删除\n",
    "print('电话号码：',num)"
   ]
  },
  {
   "cell_type": "markdown",
   "metadata": {},
   "source": [
    "## datetime(日期时间)"
   ]
  },
  {
   "cell_type": "markdown",
   "metadata": {},
   "source": [
    "Ref:https://www.cnblogs.com/awakenedy/articles/9182036.html\n",
    "\n",
    "datetime主要模块：<br>\n",
    "1-date  日期对象，包含year,month,day <br>\n",
    "2-time  时间对象，包含hour,mintune,second,microsecond <br>\n",
    "3-datetime 日期+时间<br>\n",
    "4-timedelta 时间间隔"
   ]
  },
  {
   "cell_type": "markdown",
   "metadata": {},
   "source": [
    "## date"
   ]
  },
  {
   "cell_type": "markdown",
   "metadata": {},
   "source": [
    "1-获取当前日期<br>\n",
    "2-创建日期<br>\n",
    "3-format日期<br>\n",
    "4-日期比较<br>\n",
    "5-日期间隔"
   ]
  },
  {
   "cell_type": "code",
   "execution_count": 48,
   "metadata": {},
   "outputs": [
    {
     "name": "stdout",
     "output_type": "stream",
     "text": [
      "2021-03-15\n",
      "21/03/15\n",
      "0\n",
      "15\n"
     ]
    }
   ],
   "source": [
    "from datetime import date\n",
    "\n",
    "#获取当前日期\n",
    "now=date.today()\n",
    "print(now)\n",
    "\n",
    "#格式化日期\n",
    "print(now.strftime('%y/%m/%d'))\n",
    "\n",
    "#获取日期的属性信息\n",
    "print(now.weekday()) #星期1-星期日是0-6\n",
    "print(now.day)"
   ]
  },
  {
   "cell_type": "code",
   "execution_count": 59,
   "metadata": {},
   "outputs": [
    {
     "name": "stdout",
     "output_type": "stream",
     "text": [
      "1\n",
      "间隔时间： -1\n"
     ]
    }
   ],
   "source": [
    "#创建日期\n",
    "d1=date(2021, 3, 16)\n",
    "print(d1.weekday())\n",
    "\n",
    "d2=date.today()\n",
    "\n",
    "time_gap=d2-d1\n",
    "print('间隔时间：',time_gap.days)"
   ]
  },
  {
   "cell_type": "markdown",
   "metadata": {},
   "source": [
    "### datetime"
   ]
  },
  {
   "cell_type": "code",
   "execution_count": 65,
   "metadata": {},
   "outputs": [
    {
     "name": "stdout",
     "output_type": "stream",
     "text": [
      "2021-03-15 16:36:44.155700\n",
      "2021-03-15\n",
      "0\n",
      "15\n",
      "21/0315 16:36:44\n"
     ]
    }
   ],
   "source": [
    "from datetime import datetime\n",
    "\n",
    "#获取当前日期时间\n",
    "now=datetime.now()\n",
    "print(now)\n",
    "\n",
    "#获取时间部分\n",
    "print(now.date())\n",
    "\n",
    "#获取weekday\n",
    "print(now.weekday())\n",
    "\n",
    "#获取year\n",
    "print(now.day)\n",
    "\n",
    "#格式化输出\n",
    "print(now.strftime('%y/%m%d %H:%M:%S'))"
   ]
  }
 ],
 "metadata": {
  "kernelspec": {
   "display_name": "Python 3",
   "language": "python",
   "name": "python3"
  },
  "language_info": {
   "codemirror_mode": {
    "name": "ipython",
    "version": 3
   },
   "file_extension": ".py",
   "mimetype": "text/x-python",
   "name": "python",
   "nbconvert_exporter": "python",
   "pygments_lexer": "ipython3",
   "version": "3.5.6"
  },
  "latex_envs": {
   "LaTeX_envs_menu_present": true,
   "autoclose": false,
   "autocomplete": true,
   "bibliofile": "biblio.bib",
   "cite_by": "apalike",
   "current_citInitial": 1,
   "eqLabelWithNumbers": true,
   "eqNumInitial": 1,
   "hotkeys": {
    "equation": "Ctrl-E",
    "itemize": "Ctrl-I"
   },
   "labels_anchors": false,
   "latex_user_defs": false,
   "report_style_numbering": false,
   "user_envs_cfg": false
  }
 },
 "nbformat": 4,
 "nbformat_minor": 2
}
