{
 "cells": [
  {
   "cell_type": "code",
   "execution_count": null,
   "metadata": {},
   "outputs": [],
   "source": [
    "# -*- coding=utf-8 -*-\n",
    "'''\n",
    "@Created on 2021/3/12\n",
    "\n",
    "@Haihui Pan\n",
    "\n",
    "@Ref:https://www.runoob.com/python3/python3-module.html\n",
    "'''"
   ]
  },
  {
   "cell_type": "markdown",
   "metadata": {},
   "source": [
    "# 模块（Module）"
   ]
  },
  {
   "cell_type": "markdown",
   "metadata": {},
   "source": [
    "模块：一个py文件就是一个模块，里面包含定义的类，函数，变量等\n",
    "\n",
    "1-一个模块只会被导入一次，无论import多少次，以防止已导入的模块被重复执行<br>\n",
    "2-模块除了定义方法外，还包括可执行代码。这些代码用于初始化模块，并且只在第一次导入时被执行<br>\n",
    "3-每个模块都有<u> </u>name<u> </u>属性，当值为<u> </u>main<u> </u>时，表示该模块自身在运行，否是是被导入"
   ]
  },
  {
   "cell_type": "markdown",
   "metadata": {},
   "source": [
    "包:一种管理 Python 模块命名空间的形式，采用\"点模块名称\"。\n",
    "\n",
    "1 一个模块的名称是 A.B表示一个包 A中的子模块 B 。<br>\n",
    "2 目录只有包含一个叫做<u>  </u> __init__<u>  </u> .py 的文件才会被认作是一个包"
   ]
  },
  {
   "cell_type": "markdown",
   "metadata": {},
   "source": [
    "# 面向对象"
   ]
  },
  {
   "cell_type": "markdown",
   "metadata": {},
   "source": [
    "面向对象的四大特征：封装、继承、多态、抽象\n",
    "\n",
    "封装：将对象的属性和方法结合为一个整体，并尽可能隐蔽对象内部实现细节，只公开我提供的功能<br>\n",
    "继承：从已有的类别派生出新的类称为子类，子类可以继承父类的属性和方法，同时可以扩展自己的方法<br>\n",
    "多态：同一方法可以根据调用对象的不同而采用多种不同的方法<br>\n",
    "抽象：从众多事物中抽取共同属性和方法的过程"
   ]
  },
  {
   "cell_type": "markdown",
   "metadata": {},
   "source": [
    "## 类定义"
   ]
  },
  {
   "cell_type": "markdown",
   "metadata": {},
   "source": [
    "方法和属性类型：公有、私有、保护、静态\n",
    "\n",
    "1-方法<br>\n",
    "&nbsp; 1.1 <u>  </u>__init__<u> </u>()是类的构造函数<br>\n",
    "&nbsp; 1.2 类方法的第一个参数是'self',用于指向实例<br>\n",
    "&nbsp; 1.3 public方法：没有下划线；protected方法：一个下划线 ；private方法：两个下划线<br>\n",
    "&nbsp; 1.4 类的静态方法需要加 @staticmethod ,同时去掉self\n",
    "\n",
    "2-属性<br>\n",
    "&nbsp; 2.1 实例属性：在<u> </u>__init__<u> </u>()中初始化，使用slef调用<br>\n",
    "&nbsp; 2.2 类属性：在 <u>  </u>__init__<u> </u>()中初始化，使用类名调用"
   ]
  },
  {
   "cell_type": "code",
   "execution_count": 9,
   "metadata": {},
   "outputs": [
    {
     "name": "stdout",
     "output_type": "stream",
     "text": [
      "Name is Tom and age is 10\n",
      "Socre is 88.5\n",
      "Tom\n",
      "The number of student is 1\n",
      "1\n"
     ]
    }
   ],
   "source": [
    "class Student:\n",
    "    #类属性（静态变量）\n",
    "    number=0\n",
    "    \n",
    "    def __init__(self,name,age,score):\n",
    "        #实例属性\n",
    "        self.name=name\n",
    "        self.age=age\n",
    "        #私有属性\n",
    "        self.__socre=score\n",
    "        #类属性\n",
    "        Student.number+=1\n",
    "        \n",
    "    #公有方法\n",
    "    def print_info(self):\n",
    "        print('Name is {} and age is {}'.format(self.name,self.age))\n",
    "        self.__print_score()\n",
    "    \n",
    "    #私有方法\n",
    "    def __print_score(self):\n",
    "        print('Socre is {}'.format(self.__socre))\n",
    "        \n",
    "    #类方法（静态方法）\n",
    "    @staticmethod\n",
    "    def print_student_num():\n",
    "        print('The number of student is {}'.format(Student.number))\n",
    "\n",
    "#实例方法和属性\n",
    "s1=Student('Tom',10,88.5)\n",
    "s1.print_info()\n",
    "print(s1.name)\n",
    "\n",
    "#类方法和类属性\n",
    "Student.print_student_num()\n",
    "print(Student.number)"
   ]
  },
  {
   "cell_type": "markdown",
   "metadata": {},
   "source": [
    "## 继承&多态"
   ]
  },
  {
   "cell_type": "code",
   "execution_count": 17,
   "metadata": {},
   "outputs": [
    {
     "name": "stdout",
     "output_type": "stream",
     "text": [
      "This is cat\n",
      "This is dog\n"
     ]
    }
   ],
   "source": [
    "#在Python中是允许多继承\n",
    "class Animal:\n",
    "    def print_info(self):\n",
    "        print('This is animal')\n",
    "        \n",
    "        \n",
    "class Dog(Animal):\n",
    "    def print_info(self):\n",
    "        print('This is dog')\n",
    "        \n",
    "class Cat(Animal):\n",
    "    def print_info(self):\n",
    "        print('This is cat')\n",
    "\n",
    "def animal_info(obj):\n",
    "    obj.print_info()\n",
    "    \n",
    "d=Dog()\n",
    "c=Cat()\n",
    "\n",
    "animal_info(c)\n",
    "animal_info(d)"
   ]
  },
  {
   "cell_type": "markdown",
   "metadata": {},
   "source": [
    "## 抽象"
   ]
  },
  {
   "cell_type": "markdown",
   "metadata": {},
   "source": [
    "1 在python中，我们不以有无执行体来区分是否是抽象类，而是根据是否有@abc.abstractmethod装饰器作为标准<br>\n",
    "2 抽象类是一个特殊的类，只能被继承，不能实例化"
   ]
  },
  {
   "cell_type": "code",
   "execution_count": 19,
   "metadata": {},
   "outputs": [
    {
     "name": "stdout",
     "output_type": "stream",
     "text": [
      "This is tigger\n"
     ]
    }
   ],
   "source": [
    "import abc\n",
    "\n",
    "class Animal(metaclass=abc.ABCMeta):\n",
    "    @abc.abstractmethod\n",
    "    def print_info(self):\n",
    "        pass\n",
    "    \n",
    "class Tigger(Animal):\n",
    "    def print_info(self):\n",
    "        print('This is tigger')\n",
    "\n",
    "t=Tigger()\n",
    "t.print_info()"
   ]
  },
  {
   "cell_type": "markdown",
   "metadata": {},
   "source": [
    "## 类的专有方法"
   ]
  },
  {
   "cell_type": "raw",
   "metadata": {},
   "source": [
    "__init__ : 构造函数，在生成对象时调用\n",
    "__del__ : 析构函数，释放对象时使用\n",
    "__repr__ : 打印，转换\n",
    "__setitem__ : 按照索引赋值\n",
    "__getitem__: 按照索引获取值\n",
    "__len__: 获得长度\n",
    "__cmp__: 比较运算\n",
    "__call__: 函数调用\n",
    "__add__: 加运算\n",
    "__sub__: 减运算\n",
    "__mul__: 乘运算\n",
    "__truediv__: 除运算\n",
    "__mod__: 求余运算\n",
    "__pow__: 乘方"
   ]
  },
  {
   "cell_type": "markdown",
   "metadata": {},
   "source": [
    "### 运算符重载"
   ]
  },
  {
   "cell_type": "code",
   "execution_count": 24,
   "metadata": {},
   "outputs": [
    {
     "name": "stdout",
     "output_type": "stream",
     "text": [
      "Vector(4,6)\n"
     ]
    }
   ],
   "source": [
    "class Vector:\n",
    "    def __init__(self,a,b):\n",
    "        self.a=a\n",
    "        self.b=b\n",
    "    \n",
    "    def __repr__(self):\n",
    "        return 'Vector({},{})'.format(self.a,self.b)\n",
    "    \n",
    "    def __add__(self,other):\n",
    "        return Vector(self.a+other.a,self.b+other.b)\n",
    "    \n",
    "v1=Vector(1,2)\n",
    "v2=Vector(3,4)\n",
    "v3=v1+v2\n",
    "print(v3)"
   ]
  },
  {
   "cell_type": "markdown",
   "metadata": {},
   "source": [
    "# 断言（Assert）"
   ]
  },
  {
   "cell_type": "markdown",
   "metadata": {},
   "source": [
    "1 assert（断言）用于判断一个表达式，在表达式条件为 false 的时候触发异常<br>\n",
    "2 assert expression 等价于  if not expression:  raise AssertionError"
   ]
  },
  {
   "cell_type": "markdown",
   "metadata": {},
   "source": [
    "a=2\n",
    "b=3\n",
    "\n",
    "#assert 表达式，异常信息\n",
    "assert a==b,'a不等于b'"
   ]
  },
  {
   "cell_type": "code",
   "execution_count": 27,
   "metadata": {},
   "outputs": [
    {
     "ename": "AssertionError",
     "evalue": "该代码只能在 Linux 下执行",
     "output_type": "error",
     "traceback": [
      "\u001b[1;31m---------------------------------------------------------------------------\u001b[0m",
      "\u001b[1;31mAssertionError\u001b[0m                            Traceback (most recent call last)",
      "\u001b[1;32m<ipython-input-27-0c0f772183fb>\u001b[0m in \u001b[0;36m<module>\u001b[1;34m()\u001b[0m\n\u001b[0;32m      3\u001b[0m \u001b[1;32massert\u001b[0m \u001b[1;33m(\u001b[0m\u001b[1;34m'win32'\u001b[0m \u001b[1;32min\u001b[0m \u001b[0msys\u001b[0m\u001b[1;33m.\u001b[0m\u001b[0mplatform\u001b[0m\u001b[1;33m)\u001b[0m\u001b[1;33m,\u001b[0m \u001b[1;34m\"该代码只能在 windows 下执行\"\u001b[0m\u001b[1;33m\u001b[0m\u001b[0m\n\u001b[0;32m      4\u001b[0m \u001b[1;31m#抛出指定异常信息\u001b[0m\u001b[1;33m\u001b[0m\u001b[1;33m\u001b[0m\u001b[0m\n\u001b[1;32m----> 5\u001b[1;33m \u001b[1;32massert\u001b[0m \u001b[1;33m(\u001b[0m\u001b[1;34m'linux'\u001b[0m \u001b[1;32min\u001b[0m \u001b[0msys\u001b[0m\u001b[1;33m.\u001b[0m\u001b[0mplatform\u001b[0m\u001b[1;33m)\u001b[0m\u001b[1;33m,\u001b[0m \u001b[1;34m\"该代码只能在 Linux 下执行\"\u001b[0m\u001b[1;33m\u001b[0m\u001b[0m\n\u001b[0m",
      "\u001b[1;31mAssertionError\u001b[0m: 该代码只能在 Linux 下执行"
     ]
    }
   ],
   "source": [
    "import sys\n",
    "#不会抛出异常\n",
    "assert ('win32' in sys.platform), \"该代码只能在 windows 下执行\"\n",
    "#抛出指定异常信息\n",
    "assert ('linux' in sys.platform), \"该代码只能在 Linux 下执行\""
   ]
  },
  {
   "cell_type": "markdown",
   "metadata": {},
   "source": [
    "# 异常"
   ]
  },
  {
   "cell_type": "markdown",
   "metadata": {},
   "source": [
    "1-运行期检测到的错误被称为异常<br>\n",
    "2-异常捕捉可以使用 try/except 语句"
   ]
  },
  {
   "cell_type": "markdown",
   "metadata": {},
   "source": [
    "## 异常处理"
   ]
  },
  {
   "cell_type": "code",
   "execution_count": 30,
   "metadata": {},
   "outputs": [
    {
     "name": "stdout",
     "output_type": "stream",
     "text": [
      "运输时的异常信息： division by zero\n",
      "是否发生异常都会进入finally\n"
     ]
    }
   ],
   "source": [
    "try:\n",
    "    x=1/0\n",
    "except ZeroDivisionError as err:\n",
    "    print('运输时的异常信息：',err)\n",
    "finally:\n",
    "    print('是否发生异常都会进入finally')"
   ]
  },
  {
   "cell_type": "markdown",
   "metadata": {},
   "source": [
    "## 抛出异常"
   ]
  },
  {
   "cell_type": "code",
   "execution_count": 31,
   "metadata": {},
   "outputs": [
    {
     "ename": "Exception",
     "evalue": "年龄低于18岁",
     "output_type": "error",
     "traceback": [
      "\u001b[1;31m---------------------------------------------------------------------------\u001b[0m",
      "\u001b[1;31mException\u001b[0m                                 Traceback (most recent call last)",
      "\u001b[1;32m<ipython-input-31-2e69bb082ad5>\u001b[0m in \u001b[0;36m<module>\u001b[1;34m()\u001b[0m\n\u001b[0;32m      5\u001b[0m         \u001b[0mprint\u001b[0m\u001b[1;33m(\u001b[0m\u001b[1;34m'年龄合法'\u001b[0m\u001b[1;33m)\u001b[0m\u001b[1;33m\u001b[0m\u001b[0m\n\u001b[0;32m      6\u001b[0m \u001b[1;33m\u001b[0m\u001b[0m\n\u001b[1;32m----> 7\u001b[1;33m \u001b[0mlegal_age\u001b[0m\u001b[1;33m(\u001b[0m\u001b[1;36m17\u001b[0m\u001b[1;33m)\u001b[0m\u001b[1;33m\u001b[0m\u001b[0m\n\u001b[0m",
      "\u001b[1;32m<ipython-input-31-2e69bb082ad5>\u001b[0m in \u001b[0;36mlegal_age\u001b[1;34m(age)\u001b[0m\n\u001b[0;32m      1\u001b[0m \u001b[1;32mdef\u001b[0m \u001b[0mlegal_age\u001b[0m\u001b[1;33m(\u001b[0m\u001b[0mage\u001b[0m\u001b[1;33m)\u001b[0m\u001b[1;33m:\u001b[0m\u001b[1;33m\u001b[0m\u001b[0m\n\u001b[0;32m      2\u001b[0m     \u001b[1;32mif\u001b[0m \u001b[0mage\u001b[0m\u001b[1;33m<\u001b[0m\u001b[1;36m18\u001b[0m\u001b[1;33m:\u001b[0m\u001b[1;33m\u001b[0m\u001b[0m\n\u001b[1;32m----> 3\u001b[1;33m         \u001b[1;32mraise\u001b[0m \u001b[0mException\u001b[0m\u001b[1;33m(\u001b[0m\u001b[1;34m'年龄低于18岁'\u001b[0m\u001b[1;33m)\u001b[0m\u001b[1;33m\u001b[0m\u001b[0m\n\u001b[0m\u001b[0;32m      4\u001b[0m     \u001b[1;32melse\u001b[0m\u001b[1;33m:\u001b[0m\u001b[1;33m\u001b[0m\u001b[0m\n\u001b[0;32m      5\u001b[0m         \u001b[0mprint\u001b[0m\u001b[1;33m(\u001b[0m\u001b[1;34m'年龄合法'\u001b[0m\u001b[1;33m)\u001b[0m\u001b[1;33m\u001b[0m\u001b[0m\n",
      "\u001b[1;31mException\u001b[0m: 年龄低于18岁"
     ]
    }
   ],
   "source": [
    "def legal_age(age):\n",
    "    if age<18:\n",
    "        raise Exception('年龄低于18岁')\n",
    "    else:\n",
    "        print('年龄合法')\n",
    "\n",
    "legal_age(17)"
   ]
  },
  {
   "cell_type": "markdown",
   "metadata": {},
   "source": [
    "## 自定义异常"
   ]
  },
  {
   "cell_type": "code",
   "execution_count": 32,
   "metadata": {},
   "outputs": [
    {
     "name": "stdout",
     "output_type": "stream",
     "text": [
      "My test exception\n"
     ]
    }
   ],
   "source": [
    "class MyException(Exception):\n",
    "    def __init__(self,message):\n",
    "        self.message=message\n",
    "        \n",
    "    def __repr__(self):\n",
    "        return self.message\n",
    "    \n",
    "try:\n",
    "    raise MyException('My test exception')\n",
    "except MyException as err:\n",
    "    print(err)"
   ]
  }
 ],
 "metadata": {
  "kernelspec": {
   "display_name": "Python 3",
   "language": "python",
   "name": "python3"
  },
  "language_info": {
   "codemirror_mode": {
    "name": "ipython",
    "version": 3
   },
   "file_extension": ".py",
   "mimetype": "text/x-python",
   "name": "python",
   "nbconvert_exporter": "python",
   "pygments_lexer": "ipython3",
   "version": "3.5.6"
  },
  "latex_envs": {
   "LaTeX_envs_menu_present": true,
   "autoclose": false,
   "autocomplete": true,
   "bibliofile": "biblio.bib",
   "cite_by": "apalike",
   "current_citInitial": 1,
   "eqLabelWithNumbers": true,
   "eqNumInitial": 1,
   "hotkeys": {
    "equation": "Ctrl-E",
    "itemize": "Ctrl-I"
   },
   "labels_anchors": false,
   "latex_user_defs": false,
   "report_style_numbering": false,
   "user_envs_cfg": false
  }
 },
 "nbformat": 4,
 "nbformat_minor": 2
}
